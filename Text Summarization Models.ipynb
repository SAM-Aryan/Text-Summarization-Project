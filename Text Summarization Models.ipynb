{
 "cells": [
  {
   "cell_type": "markdown",
   "metadata": {},
   "source": [
    "## **Text Summarization using FLan-T5, Dolly-V2**"
   ]
  },
  {
   "cell_type": "markdown",
   "metadata": {},
   "source": [
    "### OPTIONAL"
   ]
  },
  {
   "cell_type": "markdown",
   "metadata": {},
   "source": [
    "#### System Information"
   ]
  },
  {
   "cell_type": "code",
   "execution_count": 37,
   "metadata": {},
   "outputs": [
    {
     "name": "stdout",
     "output_type": "stream",
     "text": [
      "MemTotal: %.2f GB 15.851795196533203\n",
      "=============GPU INFO=============\n",
      "GPU NOT available\n"
     ]
    }
   ],
   "source": [
    "import psutil\n",
    "import torch\n",
    "\n",
    "ram = psutil.virtual_memory()\n",
    "ram_total = ram.total / (1024 ** 3)\n",
    "print(\"MemTotal: %.2f GB\", ram_total)\n",
    "\n",
    "print(\"=============GPU INFO=============\")\n",
    "\n",
    "if torch.cuda.is_available():\n",
    "       !/opt/bin/nvidia-smi || ture\n",
    "else:\n",
    "    print(\"GPU NOT available\")"
   ]
  },
  {
   "cell_type": "markdown",
   "metadata": {},
   "source": [
    "### Getting the Essential Task done"
   ]
  },
  {
   "cell_type": "markdown",
   "metadata": {},
   "source": [
    "#### Installing the required packages"
   ]
  },
  {
   "cell_type": "code",
   "execution_count": 38,
   "metadata": {},
   "outputs": [
    {
     "name": "stderr",
     "output_type": "stream",
     "text": [
      "\n",
      "[notice] A new release of pip available: 22.3.1 -> 23.3.1\n",
      "[notice] To update, run: python.exe -m pip install --upgrade pip\n"
     ]
    }
   ],
   "source": [
    "!pip install -U -q openllm datasets matplotlib transformers pandas numpy nltk rouge_score"
   ]
  },
  {
   "cell_type": "markdown",
   "metadata": {},
   "source": [
    "#### Initializing the libraries"
   ]
  },
  {
   "cell_type": "code",
   "execution_count": 115,
   "metadata": {},
   "outputs": [
    {
     "name": "stderr",
     "output_type": "stream",
     "text": [
      "[nltk_data] Downloading package punkt to C:\\Users\\Aryan\n",
      "[nltk_data]     Mohanty\\AppData\\Roaming\\nltk_data...\n",
      "[nltk_data]   Package punkt is already up-to-date!\n"
     ]
    },
    {
     "data": {
      "text/plain": [
       "True"
      ]
     },
     "execution_count": 115,
     "metadata": {},
     "output_type": "execute_result"
    }
   ],
   "source": [
    "from transformers import pipeline, set_seed\n",
    "import openllm\n",
    "import matplotlib.pyplot as plt\n",
    "from datasets import load_metric\n",
    "import pandas as pd\n",
    "from transformers import AutoModelForSeq2SeqLM, AutoTokenizer\n",
    "\n",
    "import pandas as pd\n",
    "import numpy as np\n",
    "\n",
    "import nltk\n",
    "from nltk.tokenize import sent_tokenize\n",
    "nltk.download(\"punkt\")"
   ]
  },
  {
   "cell_type": "markdown",
   "metadata": {},
   "source": [
    "#### Importing the CNN Dailymail library for sample text\n",
    "An important aspect of the dataset is that the summaries are abstractive and not extractive, which means that they consist of new sentences instead of simple excerpts."
   ]
  },
  {
   "cell_type": "code",
   "execution_count": 3,
   "metadata": {},
   "outputs": [
    {
     "data": {
      "application/vnd.jupyter.widget-view+json": {
       "model_id": "ec10df4af69040a790696fed3773f07c",
       "version_major": 2,
       "version_minor": 0
      },
      "text/plain": [
       "Downloading data files:   0%|          | 0/5 [00:00<?, ?it/s]"
      ]
     },
     "metadata": {},
     "output_type": "display_data"
    },
    {
     "data": {
      "application/vnd.jupyter.widget-view+json": {
       "model_id": "8946062920604c8595a860cd553b0d59",
       "version_major": 2,
       "version_minor": 0
      },
      "text/plain": [
       "Generating train split:   0%|          | 0/287113 [00:00<?, ? examples/s]"
      ]
     },
     "metadata": {},
     "output_type": "display_data"
    },
    {
     "data": {
      "application/vnd.jupyter.widget-view+json": {
       "model_id": "e3e061297ce148e9a53a35d0129bfade",
       "version_major": 2,
       "version_minor": 0
      },
      "text/plain": [
       "Generating validation split:   0%|          | 0/13368 [00:00<?, ? examples/s]"
      ]
     },
     "metadata": {},
     "output_type": "display_data"
    },
    {
     "data": {
      "application/vnd.jupyter.widget-view+json": {
       "model_id": "d4536cda447a4e41b0f7f859f647e573",
       "version_major": 2,
       "version_minor": 0
      },
      "text/plain": [
       "Generating test split:   0%|          | 0/11490 [00:00<?, ? examples/s]"
      ]
     },
     "metadata": {},
     "output_type": "display_data"
    },
    {
     "name": "stdout",
     "output_type": "stream",
     "text": [
      "Features in cnn_dailymail : ['article', 'highlights', 'id']\n"
     ]
    }
   ],
   "source": [
    "from datasets import load_dataset\n",
    "\n",
    "dataset = load_dataset(\"cnn_dailymail\", \"3.0.0\")\n",
    "\n",
    "print(f\"Features in cnn_dailymail : {dataset['train'].column_names}\")"
   ]
  },
  {
   "cell_type": "code",
   "execution_count": 8,
   "metadata": {},
   "outputs": [
    {
     "name": "stdout",
     "output_type": "stream",
     "text": [
      "Article (excerpt of 500 characters, total length: 2527) : \n",
      "\n",
      "LONDON, England (Reuters) -- Harry Potter star Daniel Radcliffe gains access to a reported £20 million ($41.1 million) fortune as he turns 18 on Monday, but he insists the money won't cast a spell on him. Daniel Radcliffe as Harry Potter in \"Harry Potter and the Order of the Phoenix\" To the disappointment of gossip columnists around the world, the young actor says he has no plans to fritter his cash away on fast cars, drink and celebrity parties. \"I don't plan to be one of those people who, as s\n",
      "\n",
      "Summary (length: 217):\n",
      "Harry Potter star Daniel Radcliffe gets £20M fortune as he turns 18 Monday .\n",
      "Young actor says he has no plans to fritter his cash away .\n",
      "Radcliffe's earnings from first five Potter films have been held in trust fund .\n"
     ]
    }
   ],
   "source": [
    "sample = dataset[\"train\"][0]\n",
    "print(f\"Article (excerpt of 500 characters, total length: {len(sample['article'])}) : \\n\")\n",
    "print(sample[\"article\"][:500])\n",
    "print(f'\\nSummary (length: {len(sample[\"highlights\"])}):')\n",
    "print(sample[\"highlights\"])"
   ]
  },
  {
   "cell_type": "markdown",
   "metadata": {},
   "source": [
    "This is the sample text that we will be using for our metrics of models\n",
    "\n",
    "```\n",
    "LONDON, England (Reuters) -- Harry Potter star Daniel Radcliffe gains access to a reported £20 million ($41.1 million) fortune as he turns 18 on Monday, but he insists the money won't cast a spell on him. Daniel Radcliffe as Harry Potter in \"Harry Potter and the Order of the Phoenix\" To the disappointment of gossip columnists around the world, the young actor says he has no plans to fritter his cash away on fast cars, drink and celebrity parties. \"I don't plan to be one of those people who, as soon as they turn 18, suddenly buy themselves a massive sports car collection or something similar,\" he told an Australian interviewer earlier this month. \"I don't think I'll be particularly extravagant. \"The things I like buying are things that cost about 10 pounds -- books and CDs and DVDs.\" At 18, Radcliffe will be able to gamble in a casino, buy a drink in a pub or see the horror film \"Hostel: Part II,\" currently six places below his number one movie on the UK box office chart. Details of how...\n",
    "```"
   ]
  },
  {
   "cell_type": "code",
   "execution_count": 62,
   "metadata": {},
   "outputs": [],
   "source": [
    "sample_text = dataset[\"train\"][0][\"article\"][:1000]\n",
    "summaries_openllm = {}\n",
    "summaries_huggingface = {}"
   ]
  },
  {
   "cell_type": "markdown",
   "metadata": {},
   "source": [
    "### Flan-T5 Base Model "
   ]
  },
  {
   "cell_type": "markdown",
   "metadata": {},
   "source": [
    "To start the OPENLLM Server for Flan-T5 Base model Run the following command on the terminal.\n",
    "\n",
    "```\n",
    "openllm start flan-t5 --model-id google/flan-t5-base\n",
    "```"
   ]
  },
  {
   "cell_type": "markdown",
   "metadata": {},
   "source": [
    "#### Accessing the server through client instance"
   ]
  },
  {
   "cell_type": "code",
   "execution_count": 71,
   "metadata": {},
   "outputs": [],
   "source": [
    "client = openllm.client.HTTPClient(\"http://localhost:3000\")\n",
    "query_text = sample_text + \"\\nTL;DR:\\n\"\n",
    "response = client.query(query_text)\n",
    "summaries_openllm[\"Flan-T5\"] = response.responses[0]"
   ]
  },
  {
   "cell_type": "markdown",
   "metadata": {},
   "source": [
    "Here is the summarized article by Flan-T5 Base Model"
   ]
  },
  {
   "cell_type": "code",
   "execution_count": 72,
   "metadata": {},
   "outputs": [
    {
     "data": {
      "text/plain": [
       "\"Harry Potter star Daniel Radcliffe gains access to a reported £20 million fortune as he turns 18 on Monday, but he insists the money won't cast a spell on him.\""
      ]
     },
     "execution_count": 72,
     "metadata": {},
     "output_type": "execute_result"
    }
   ],
   "source": [
    "summaries_openllm[\"Flan-T5\"]"
   ]
  },
  {
   "cell_type": "markdown",
   "metadata": {},
   "source": [
    "### OPT 350M Model"
   ]
  },
  {
   "cell_type": "markdown",
   "metadata": {},
   "source": [
    "To start the OPENLLM Server for OPT 350M model Run the following command on the terminal.\n",
    "\n",
    "```\n",
    "openllm start opt --model-id facebook/opt-350m --backend pt\n",
    "```"
   ]
  },
  {
   "cell_type": "markdown",
   "metadata": {},
   "source": [
    "#### Accessing the server through client instance"
   ]
  },
  {
   "cell_type": "code",
   "execution_count": 75,
   "metadata": {},
   "outputs": [],
   "source": [
    "client = openllm.client.HTTPClient(\"http://localhost:3000\")\n",
    "query_text = sample_text + \"\\nTL;DR:\\n\"\n",
    "response = client.query(query_text)\n",
    "summaries_openllm[\"OPT\"] = response.responses[0][len(query_text):]"
   ]
  },
  {
   "cell_type": "markdown",
   "metadata": {},
   "source": [
    "Here is the summarized article by OPT 350M Model"
   ]
  },
  {
   "cell_type": "code",
   "execution_count": 76,
   "metadata": {},
   "outputs": [
    {
     "data": {
      "text/plain": [
       "'Radcliffe\\'s fortune is said to be worth around £20 million, although his agent says he\\'s likely to make a modest fortune on the back of the success of \"Harry Potter and the Order of the Phoenix.\" The star of the \"Harry Potter\" movie franchise has not publicly disclosed his fortune. In a new interview with \"The Independent,\" Radcliffe, who turns 18 on Monday, said he would never be tempted to spend money on extravagances, but he admitted that money is important and he could use it to improve his life. \"I don\\'t want to spend a lot of money on things that I know are going to fail,\" he said. \"But I do want to do things that I think are going to help me get out of the hole I\\'ve got myself in.\" \"Harry Potter and the Order of the Phoenix\" was released on Monday night, the day after Radcliffe\\'s 18th birthday.'"
      ]
     },
     "execution_count": 76,
     "metadata": {},
     "output_type": "execute_result"
    }
   ],
   "source": [
    "summaries_openllm[\"OPT\"]"
   ]
  },
  {
   "cell_type": "markdown",
   "metadata": {},
   "source": [
    "### Dolly-V2 3B Model "
   ]
  },
  {
   "cell_type": "markdown",
   "metadata": {},
   "source": [
    "To start the OPENLLM Server for Dolly-V2 3B model Run the following command on the terminal.\n",
    "\n",
    "```\n",
    "openllm start dolly-v2 --model-id databricks/dolly-v2-3b --backend pt\n",
    "```"
   ]
  },
  {
   "cell_type": "markdown",
   "metadata": {},
   "source": [
    "#### Accessing the server through client instance"
   ]
  },
  {
   "cell_type": "markdown",
   "metadata": {},
   "source": [
    "**NOTICE** : This Model Could not produce the desired output since I am limited on my hardware and Dolly-V2 3B Model is the 3rd most lightweight model on OPENLLM Library. The code here is viable and can be run on a capable machine to obtain the text summarization output."
   ]
  },
  {
   "cell_type": "code",
   "execution_count": null,
   "metadata": {},
   "outputs": [],
   "source": [
    "client = openllm.client.HTTPClient(\"http://localhost:3000\")\n",
    "query_text = sample_text + \"\\nTL;DR:\\n\"\n",
    "response = client.query(query_text)\n",
    "summaries_openllm[\"Dolly-V2\"] = response.responses[0]"
   ]
  },
  {
   "cell_type": "markdown",
   "metadata": {},
   "source": [
    "Here is the summarized article by Dolly-V2 3B Model"
   ]
  },
  {
   "cell_type": "code",
   "execution_count": null,
   "metadata": {},
   "outputs": [],
   "source": [
    "summaries_openllm[\"Dolly-V2\"]"
   ]
  },
  {
   "cell_type": "markdown",
   "metadata": {},
   "source": [
    "### ROUGE Metrics for the Models Processed by OPENLLM"
   ]
  },
  {
   "cell_type": "markdown",
   "metadata": {},
   "source": [
    "#### Comparison for different produced by the models"
   ]
  },
  {
   "cell_type": "code",
   "execution_count": 101,
   "metadata": {},
   "outputs": [
    {
     "name": "stdout",
     "output_type": "stream",
     "text": [
      "GROUND TRUTH\n",
      "Harry Potter star Daniel Radcliffe gets £20M fortune as he turns 18 Monday .\n",
      "Young actor says he has no plans to fritter his cash away .\n",
      "Radcliffe's earnings from first five Potter films have been held in trust fund .\n",
      "\n",
      "OPT\n",
      "Radcliffe's fortune is said to be worth around £20 million, although his agent says he's likely to make a modest fortune on the back of the success of \"Harry Potter and the Order of the Phoenix.\" The star of the \"Harry Potter\" movie franchise has not publicly disclosed his fortune. In a new interview with \"The Independent,\" Radcliffe, who turns 18 on Monday, said he would never be tempted to spend money on extravagances, but he admitted that money is important and he could use it to improve his life. \"I don't want to spend a lot of money on things that I know are going to fail,\" he said. \"But I do want to do things that I think are going to help me get out of the hole I've got myself in.\" \"Harry Potter and the Order of the Phoenix\" was released on Monday night, the day after Radcliffe's 18th birthday.\n",
      "\n",
      "FLAN-T5\n",
      "Harry Potter star Daniel Radcliffe gains access to a reported £20 million fortune as he turns 18 on Monday, but he insists the money won't cast a spell on him.\n"
     ]
    }
   ],
   "source": [
    "print(\"GROUND TRUTH\")\n",
    "\n",
    "print(dataset['train'][0]['highlights'])\n",
    "\n",
    "for model_name in summaries_openllm:\n",
    "    print(f\"\\n{model_name.upper()}\")\n",
    "    print(summaries_openllm[model_name])"
   ]
  },
  {
   "cell_type": "markdown",
   "metadata": {},
   "source": [
    "The ROUGE score was specifically developed for applications like summarization where high recall is more important than just precision."
   ]
  },
  {
   "cell_type": "code",
   "execution_count": 93,
   "metadata": {},
   "outputs": [
    {
     "data": {
      "text/html": [
       "<div>\n",
       "<style scoped>\n",
       "    .dataframe tbody tr th:only-of-type {\n",
       "        vertical-align: middle;\n",
       "    }\n",
       "\n",
       "    .dataframe tbody tr th {\n",
       "        vertical-align: top;\n",
       "    }\n",
       "\n",
       "    .dataframe thead th {\n",
       "        text-align: right;\n",
       "    }\n",
       "</style>\n",
       "<table border=\"1\" class=\"dataframe\">\n",
       "  <thead>\n",
       "    <tr style=\"text-align: right;\">\n",
       "      <th></th>\n",
       "      <th>rouge1</th>\n",
       "      <th>rouge2</th>\n",
       "      <th>rougeL</th>\n",
       "      <th>rougeLsum</th>\n",
       "    </tr>\n",
       "  </thead>\n",
       "  <tbody>\n",
       "    <tr>\n",
       "      <th>OPT</th>\n",
       "      <td>0.182741</td>\n",
       "      <td>0.041026</td>\n",
       "      <td>0.121827</td>\n",
       "      <td>0.162437</td>\n",
       "    </tr>\n",
       "    <tr>\n",
       "      <th>Flan-T5</th>\n",
       "      <td>0.371429</td>\n",
       "      <td>0.235294</td>\n",
       "      <td>0.342857</td>\n",
       "      <td>0.342857</td>\n",
       "    </tr>\n",
       "  </tbody>\n",
       "</table>\n",
       "</div>"
      ],
      "text/plain": [
       "           rouge1    rouge2    rougeL  rougeLsum\n",
       "OPT      0.182741  0.041026  0.121827   0.162437\n",
       "Flan-T5  0.371429  0.235294  0.342857   0.342857"
      ]
     },
     "execution_count": 93,
     "metadata": {},
     "output_type": "execute_result"
    }
   ],
   "source": [
    "rouge_metric = load_metric('rouge')\n",
    "rouge_names = [\"rouge1\", \"rouge2\", \"rougeL\", \"rougeLsum\"]\n",
    "\n",
    "reference = dataset['train'][0]['highlights']\n",
    "\n",
    "records = []\n",
    "\n",
    "for model_name in summaries_openllm:\n",
    "    rouge_metric.add(prediction = summaries_openllm[model_name], reference = reference)\n",
    "    score = rouge_metric.compute()\n",
    "    rouge_dict = dict((rn, score[rn].mid.fmeasure ) for rn in rouge_names)\n",
    "    records.append(rouge_dict)\n",
    "\n",
    "pd.DataFrame.from_records(records, index = summaries_openllm.keys())"
   ]
  },
  {
   "cell_type": "markdown",
   "metadata": {},
   "source": [
    "### Hugging Face Pipeline for Text Summarization"
   ]
  },
  {
   "cell_type": "markdown",
   "metadata": {},
   "source": [
    "Since OPENLLM is still a new and mostly BENTOML Service based library, it is not the most capable resource for tasks for Text Summarization. For a better usecase for the task we will look into how HuggingFace Model ,combined with Pipeline for easy interface, perform in this situation."
   ]
  },
  {
   "cell_type": "markdown",
   "metadata": {},
   "source": [
    "Defining a Baseline sample summary to compare with other models"
   ]
  },
  {
   "cell_type": "code",
   "execution_count": 105,
   "metadata": {},
   "outputs": [
    {
     "data": {
      "text/plain": [
       "'LONDON, England (Reuters) -- Harry Potter star Daniel Radcliffe gains access to a reported £20 million ($41.1 million) fortune as he turns 18 on Monday, but he insists the money won\\'t cast a spell on him.\\nDaniel Radcliffe as Harry Potter in \"Harry Potter and the Order of the Phoenix\" To the disappointment of gossip columnists around the world, the young actor says he has no plans to fritter his cash away on fast cars, drink and celebrity parties.\\n\"I don\\'t plan to be one of those people who, as soon as they turn 18, suddenly buy themselves a massive sports car collection or something similar,\" he told an Australian interviewer earlier this month.'"
      ]
     },
     "execution_count": 105,
     "metadata": {},
     "output_type": "execute_result"
    }
   ],
   "source": [
    "summaries_huggingface['baseline'] = \"\\n\".join(sent_tokenize(sample_text)[:3])\n",
    "\n",
    "summaries_huggingface['baseline']"
   ]
  },
  {
   "cell_type": "markdown",
   "metadata": {},
   "source": [
    "#### GPT2 Medium Model"
   ]
  },
  {
   "cell_type": "markdown",
   "metadata": {},
   "source": [
    "We can use GPT-2 it to generate summaries by simply appending “TL;DR” at the end of the input text.\n",
    "\n",
    "The expression “TL;DR” (too long; didn’t read) is often used on platforms like Reddit to indicate a short version of a long post. We will start our summarization experiment by re-creating the procedure of the original paper with the pipeline() function from Transformers."
   ]
  },
  {
   "cell_type": "markdown",
   "metadata": {},
   "source": [
    "Creating Pipeline for GPT-2 Medium Model"
   ]
  },
  {
   "cell_type": "code",
   "execution_count": 135,
   "metadata": {},
   "outputs": [
    {
     "name": "stderr",
     "output_type": "stream",
     "text": [
      "Setting `pad_token_id` to `eos_token_id`:50256 for open-end generation.\n"
     ]
    }
   ],
   "source": [
    "set_seed(42)\n",
    "\n",
    "pipeline_GPT2 = pipeline('text-generation', model = 'gpt2-medium' )\n",
    "\n",
    "query_text = sample_text + \"\\nTL;DR:\\n\"\n",
    "\n",
    "response = pipeline_GPT2(query_text, max_length = 512, clean_up_tokenization_spaces = True)"
   ]
  },
  {
   "cell_type": "code",
   "execution_count": 136,
   "metadata": {},
   "outputs": [],
   "source": [
    "summaries_huggingface['GPT-2'] = \"\\n\".join(sent_tokenize(response[0][\"generated_text\"][len(query_text):]))                                   "
   ]
  },
  {
   "cell_type": "code",
   "execution_count": 153,
   "metadata": {},
   "outputs": [
    {
     "data": {
      "text/plain": [
       "{'baseline': 'LONDON, England (Reuters) -- Harry Potter star Daniel Radcliffe gains access to a reported £20 million ($41.1 million) fortune as he turns 18 on Monday, but he insists the money won\\'t cast a spell on him.\\nDaniel Radcliffe as Harry Potter in \"Harry Potter and the Order of the Phoenix\" To the disappointment of gossip columnists around the world, the young actor says he has no plans to fritter his cash away on fast cars, drink and celebrity parties.\\n\"I don\\'t plan to be one of those people who, as soon as they turn 18, suddenly buy themselves a massive sports car collection or something similar,\" he told an Australian interviewer earlier this month.',\n",
       " 'GPT-2': 'Daniel Radcliffe has made a fortune as a celebrity, which means he doesn\\'t want to sell out his dream of becoming the next big thing, he told a young Australian interviewer last month.\\nAt 18 he will be able to gamble in a casino, buy a drink in a pub\\nDaniel Radcliffe looks on as Harry Potter star and actress Sarah Michelle Gellar takes part in the premiere of \"The Night Manager\" DVD at Universal Studios Hollywood, California, June 27, 2012.\\nREUTERS/Mario Anzuoni (UNITED STATES - Tags: ENTERTAINMENT BUSINESS SOCIETY) If Daniel Radcliffe does choose to ditch his lavish lifestyle, he said he has no plans to sell out his dream of becoming the next big thing.\\n\"I don\\'t think I\\'m interested in that,\" Radcliffe said last month, before revealing he had sold the home he shares with a partner for $20 million.\\n\"I don\\'t think anything is going to change that for me.\\n\"Even my parents aren\\'t going to stop me doing anything.\\nIf I want to have a drink with them and buy a drink for them, it\\'s fine, but I don\\'t want to pay for it.\\nI don\\'t want them watching it on TV.\\nMy girlfriend thinks it\\'s a beautiful set and really, really cute.\\nShe doesn\\'t care what I do with the money.\\nShe likes being watched.\"\\nWhile Rad',\n",
       " 'T5': 'the young actor says he has no plans to fritter his cash away on fast cars, drink and celebrity parties .\\nhe will be able to gamble in a casino, buy a drink in pub or see horror film \"Hostel: Part II\"',\n",
       " 'PEGASUS': 'the young actor says he has no plans to fritter his cash away on fast cars, drink and celebrity parties . he will be able to gamble in a casino, buy a drink in pub or see horror film \"Hostel: Part II\"'}"
      ]
     },
     "execution_count": 153,
     "metadata": {},
     "output_type": "execute_result"
    }
   ],
   "source": [
    "summaries_huggingface"
   ]
  },
  {
   "cell_type": "markdown",
   "metadata": {},
   "source": [
    "#### T5 Small Model"
   ]
  },
  {
   "cell_type": "markdown",
   "metadata": {},
   "source": [
    "T5 (Text-To-Text Transfer Transformer) is a transformer model that is trained in an end-to-end manner with text as input and modified text as output, in contrast to BERT-style models that can only output either a class label or a span of the input. This text-to-text formatting makes the T5 model fit for multiple NLP tasks like Summarization, Question-Answering, Machine Translation, and Classification problems."
   ]
  },
  {
   "cell_type": "markdown",
   "metadata": {},
   "source": [
    "Creating Pipeline for the T5 Small Model"
   ]
  },
  {
   "cell_type": "code",
   "execution_count": 144,
   "metadata": {},
   "outputs": [],
   "source": [
    "pipeline_T5 = pipeline('summarization', model = 't5-small' )\n",
    "\n",
    "response = pipeline_T5(sample_text)"
   ]
  },
  {
   "cell_type": "code",
   "execution_count": 147,
   "metadata": {},
   "outputs": [],
   "source": [
    "summaries_huggingface['T5'] = '\\n'.join(sent_tokenize(response[0][\"summary_text\"]))"
   ]
  },
  {
   "cell_type": "markdown",
   "metadata": {},
   "source": [
    "#### PEGASUS Model"
   ]
  },
  {
   "cell_type": "markdown",
   "metadata": {},
   "source": [
    "The PEGASUS model’s pre-training task is very similar to summarization, i.e. important sentences are removed and masked from an input document and are later generated together as one output sequence from the remaining sentences, which is fairly similar to a summary. In PEGASUS, several whole sentences are removed from documents during pre-training, and the model is tasked with recovering them. The Input for such pre-training is a document with missing sentences, while the output consists of the missing sentences being concatenated together. The advantage of this self-supervision is that you can create as many examples as there are documents without any human intervention, which often becomes a bottleneck problem in purely supervised systems."
   ]
  },
  {
   "cell_type": "markdown",
   "metadata": {},
   "source": [
    "Creating Pipeline for the PEGASUS Model"
   ]
  },
  {
   "cell_type": "code",
   "execution_count": 149,
   "metadata": {},
   "outputs": [
    {
     "name": "stderr",
     "output_type": "stream",
     "text": [
      "Some weights of PegasusForConditionalGeneration were not initialized from the model checkpoint at google/pegasus-cnn_dailymail and are newly initialized: ['model.encoder.embed_positions.weight', 'model.decoder.embed_positions.weight']\n",
      "You should probably TRAIN this model on a down-stream task to be able to use it for predictions and inference.\n"
     ]
    }
   ],
   "source": [
    "pipeline_PEGASUS = pipeline('summarization', model=\"google/pegasus-cnn_dailymail\")\n",
    "\n",
    "repsonse = pipeline_PEGASUS(sample_text)"
   ]
  },
  {
   "cell_type": "code",
   "execution_count": 150,
   "metadata": {},
   "outputs": [],
   "source": [
    "summaries_huggingface[\"PEGASUS\"] = response[0][\"summary_text\"].replace(\".<n>\", \".\\n\")"
   ]
  },
  {
   "cell_type": "markdown",
   "metadata": {},
   "source": [
    "### ROUGE Metrics for the Models Processed by HuggingFace"
   ]
  },
  {
   "cell_type": "markdown",
   "metadata": {},
   "source": [
    "#### Comparison for different produced by the models"
   ]
  },
  {
   "cell_type": "code",
   "execution_count": 152,
   "metadata": {},
   "outputs": [
    {
     "name": "stdout",
     "output_type": "stream",
     "text": [
      "GROUND TRUTH\n",
      "Harry Potter star Daniel Radcliffe gets £20M fortune as he turns 18 Monday .\n",
      "Young actor says he has no plans to fritter his cash away .\n",
      "Radcliffe's earnings from first five Potter films have been held in trust fund .\n",
      "\n",
      "BASELINE\n",
      "LONDON, England (Reuters) -- Harry Potter star Daniel Radcliffe gains access to a reported £20 million ($41.1 million) fortune as he turns 18 on Monday, but he insists the money won't cast a spell on him.\n",
      "Daniel Radcliffe as Harry Potter in \"Harry Potter and the Order of the Phoenix\" To the disappointment of gossip columnists around the world, the young actor says he has no plans to fritter his cash away on fast cars, drink and celebrity parties.\n",
      "\"I don't plan to be one of those people who, as soon as they turn 18, suddenly buy themselves a massive sports car collection or something similar,\" he told an Australian interviewer earlier this month.\n",
      "\n",
      "GPT-2\n",
      "Daniel Radcliffe has made a fortune as a celebrity, which means he doesn't want to sell out his dream of becoming the next big thing, he told a young Australian interviewer last month.\n",
      "At 18 he will be able to gamble in a casino, buy a drink in a pub\n",
      "Daniel Radcliffe looks on as Harry Potter star and actress Sarah Michelle Gellar takes part in the premiere of \"The Night Manager\" DVD at Universal Studios Hollywood, California, June 27, 2012.\n",
      "REUTERS/Mario Anzuoni (UNITED STATES - Tags: ENTERTAINMENT BUSINESS SOCIETY) If Daniel Radcliffe does choose to ditch his lavish lifestyle, he said he has no plans to sell out his dream of becoming the next big thing.\n",
      "\"I don't think I'm interested in that,\" Radcliffe said last month, before revealing he had sold the home he shares with a partner for $20 million.\n",
      "\"I don't think anything is going to change that for me.\n",
      "\"Even my parents aren't going to stop me doing anything.\n",
      "If I want to have a drink with them and buy a drink for them, it's fine, but I don't want to pay for it.\n",
      "I don't want them watching it on TV.\n",
      "My girlfriend thinks it's a beautiful set and really, really cute.\n",
      "She doesn't care what I do with the money.\n",
      "She likes being watched.\"\n",
      "While Rad\n",
      "\n",
      "T5\n",
      "the young actor says he has no plans to fritter his cash away on fast cars, drink and celebrity parties .\n",
      "he will be able to gamble in a casino, buy a drink in pub or see horror film \"Hostel: Part II\"\n",
      "\n",
      "PEGASUS\n",
      "the young actor says he has no plans to fritter his cash away on fast cars, drink and celebrity parties . he will be able to gamble in a casino, buy a drink in pub or see horror film \"Hostel: Part II\"\n"
     ]
    }
   ],
   "source": [
    "print(\"GROUND TRUTH\")\n",
    "\n",
    "print(dataset['train'][0]['highlights'])\n",
    "\n",
    "for model_name in summaries_huggingface:\n",
    "    print(f\"\\n{model_name.upper()}\")\n",
    "    print(summaries_huggingface[model_name])"
   ]
  },
  {
   "cell_type": "markdown",
   "metadata": {},
   "source": [
    "The ROUGE score was specifically developed for applications like summarization where high recall is more important than just precision."
   ]
  },
  {
   "cell_type": "code",
   "execution_count": 154,
   "metadata": {},
   "outputs": [
    {
     "data": {
      "text/html": [
       "<div>\n",
       "<style scoped>\n",
       "    .dataframe tbody tr th:only-of-type {\n",
       "        vertical-align: middle;\n",
       "    }\n",
       "\n",
       "    .dataframe tbody tr th {\n",
       "        vertical-align: top;\n",
       "    }\n",
       "\n",
       "    .dataframe thead th {\n",
       "        text-align: right;\n",
       "    }\n",
       "</style>\n",
       "<table border=\"1\" class=\"dataframe\">\n",
       "  <thead>\n",
       "    <tr style=\"text-align: right;\">\n",
       "      <th></th>\n",
       "      <th>rouge1</th>\n",
       "      <th>rouge2</th>\n",
       "      <th>rougeL</th>\n",
       "      <th>rougeLsum</th>\n",
       "    </tr>\n",
       "  </thead>\n",
       "  <tbody>\n",
       "    <tr>\n",
       "      <th>baseline</th>\n",
       "      <td>0.335484</td>\n",
       "      <td>0.248366</td>\n",
       "      <td>0.296774</td>\n",
       "      <td>0.335484</td>\n",
       "    </tr>\n",
       "    <tr>\n",
       "      <th>GPT-2</th>\n",
       "      <td>0.147059</td>\n",
       "      <td>0.059259</td>\n",
       "      <td>0.102941</td>\n",
       "      <td>0.125000</td>\n",
       "    </tr>\n",
       "    <tr>\n",
       "      <th>T5</th>\n",
       "      <td>0.350000</td>\n",
       "      <td>0.282051</td>\n",
       "      <td>0.325000</td>\n",
       "      <td>0.350000</td>\n",
       "    </tr>\n",
       "    <tr>\n",
       "      <th>PEGASUS</th>\n",
       "      <td>0.350000</td>\n",
       "      <td>0.282051</td>\n",
       "      <td>0.325000</td>\n",
       "      <td>0.350000</td>\n",
       "    </tr>\n",
       "  </tbody>\n",
       "</table>\n",
       "</div>"
      ],
      "text/plain": [
       "            rouge1    rouge2    rougeL  rougeLsum\n",
       "baseline  0.335484  0.248366  0.296774   0.335484\n",
       "GPT-2     0.147059  0.059259  0.102941   0.125000\n",
       "T5        0.350000  0.282051  0.325000   0.350000\n",
       "PEGASUS   0.350000  0.282051  0.325000   0.350000"
      ]
     },
     "execution_count": 154,
     "metadata": {},
     "output_type": "execute_result"
    }
   ],
   "source": [
    "rouge_metric = load_metric('rouge')\n",
    "rouge_names = [\"rouge1\", \"rouge2\", \"rougeL\", \"rougeLsum\"]\n",
    "\n",
    "reference = dataset['train'][0]['highlights']\n",
    "\n",
    "records = []\n",
    "\n",
    "for model_name in summaries_huggingface:\n",
    "    rouge_metric.add(prediction = summaries_huggingface[model_name], reference = reference)\n",
    "    score = rouge_metric.compute()\n",
    "    rouge_dict = dict((rn, score[rn].mid.fmeasure ) for rn in rouge_names)\n",
    "    records.append(rouge_dict)\n",
    "\n",
    "pd.DataFrame.from_records(records, index = summaries_huggingface.keys())"
   ]
  }
 ],
 "metadata": {
  "kernelspec": {
   "display_name": "Text-Summarization-Project",
   "language": "python",
   "name": "python3"
  },
  "language_info": {
   "codemirror_mode": {
    "name": "ipython",
    "version": 3
   },
   "file_extension": ".py",
   "mimetype": "text/x-python",
   "name": "python",
   "nbconvert_exporter": "python",
   "pygments_lexer": "ipython3",
   "version": "3.11.2"
  }
 },
 "nbformat": 4,
 "nbformat_minor": 2
}
