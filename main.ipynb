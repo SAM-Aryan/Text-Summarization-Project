{
 "cells": [
  {
   "cell_type": "markdown",
   "metadata": {},
   "source": [
    "### **Text Summarization using Falcon-Instruct (40B), Llama (65b), and RedPajama-INCITE-Base-v1 (7B)**"
   ]
  },
  {
   "cell_type": "markdown",
   "metadata": {},
   "source": [
    "#### System Information"
   ]
  },
  {
   "cell_type": "code",
   "execution_count": 2,
   "metadata": {},
   "outputs": [
    {
     "name": "stdout",
     "output_type": "stream",
     "text": [
      "MemTotal: 15.85 GB\n",
      "=============GPU INFO=============\n",
      "GPU NOT available\n"
     ]
    }
   ],
   "source": [
    "import psutil\n",
    "import torch\n",
    "\n",
    "ram = psutil.virtual_memory()\n",
    "ram_total = ram.total / (1024 ** 3)\n",
    "print(\"MemTotal: %.2f GB\" % ram_total)\n",
    "\n",
    "print(\"=============GPU INFO=============\")\n",
    "if torch.cuda.is_available():\n",
    "    !/opt/bin/nvidia-smi || ture\n",
    "else:\n",
    "    print(\"GPU NOT available\")"
   ]
  },
  {
   "cell_type": "code",
   "execution_count": 3,
   "metadata": {
    "vscode": {
     "languageId": "shellscript"
    }
   },
   "outputs": [
    {
     "name": "stdout",
     "output_type": "stream",
     "text": [
      "Note: you may need to restart the kernel to use updated packages.\n"
     ]
    },
    {
     "name": "stderr",
     "output_type": "stream",
     "text": [
      "\n",
      "[notice] A new release of pip available: 22.3.1 -> 23.3.1\n",
      "[notice] To update, run: python.exe -m pip install --upgrade pip\n"
     ]
    }
   ],
   "source": [
    "%pip install -U -q openllm rouge"
   ]
  },
  {
   "cell_type": "code",
   "execution_count": 10,
   "metadata": {},
   "outputs": [
    {
     "data": {
      "text/html": [
       "<div>\n",
       "<style scoped>\n",
       "    .dataframe tbody tr th:only-of-type {\n",
       "        vertical-align: middle;\n",
       "    }\n",
       "\n",
       "    .dataframe tbody tr th {\n",
       "        vertical-align: top;\n",
       "    }\n",
       "\n",
       "    .dataframe thead th {\n",
       "        text-align: right;\n",
       "    }\n",
       "</style>\n",
       "<table border=\"1\" class=\"dataframe\">\n",
       "  <thead>\n",
       "    <tr style=\"text-align: right;\">\n",
       "      <th></th>\n",
       "      <th>id</th>\n",
       "      <th>article</th>\n",
       "      <th>highlights</th>\n",
       "    </tr>\n",
       "  </thead>\n",
       "  <tbody>\n",
       "    <tr>\n",
       "      <th>0</th>\n",
       "      <td>92c514c913c0bdfe25341af9fd72b29db544099b</td>\n",
       "      <td>Ever noticed how plane seats appear to be gett...</td>\n",
       "      <td>Experts question if  packed out planes are put...</td>\n",
       "    </tr>\n",
       "    <tr>\n",
       "      <th>1</th>\n",
       "      <td>2003841c7dc0e7c5b1a248f9cd536d727f27a45a</td>\n",
       "      <td>A drunk teenage boy had to be rescued by secur...</td>\n",
       "      <td>Drunk teenage boy climbed into lion enclosure ...</td>\n",
       "    </tr>\n",
       "    <tr>\n",
       "      <th>2</th>\n",
       "      <td>91b7d2311527f5c2b63a65ca98d21d9c92485149</td>\n",
       "      <td>Dougie Freedman is on the verge of agreeing a ...</td>\n",
       "      <td>Nottingham Forest are close to extending Dougi...</td>\n",
       "    </tr>\n",
       "    <tr>\n",
       "      <th>3</th>\n",
       "      <td>caabf9cbdf96eb1410295a673e953d304391bfbb</td>\n",
       "      <td>Liverpool target Neto is also wanted by PSG an...</td>\n",
       "      <td>Fiorentina goalkeeper Neto has been linked wit...</td>\n",
       "    </tr>\n",
       "    <tr>\n",
       "      <th>4</th>\n",
       "      <td>3da746a7d9afcaa659088c8366ef6347fe6b53ea</td>\n",
       "      <td>Bruce Jenner will break his silence in a two-h...</td>\n",
       "      <td>Tell-all interview with the reality TV star, 6...</td>\n",
       "    </tr>\n",
       "  </tbody>\n",
       "</table>\n",
       "</div>"
      ],
      "text/plain": [
       "                                         id  \\\n",
       "0  92c514c913c0bdfe25341af9fd72b29db544099b   \n",
       "1  2003841c7dc0e7c5b1a248f9cd536d727f27a45a   \n",
       "2  91b7d2311527f5c2b63a65ca98d21d9c92485149   \n",
       "3  caabf9cbdf96eb1410295a673e953d304391bfbb   \n",
       "4  3da746a7d9afcaa659088c8366ef6347fe6b53ea   \n",
       "\n",
       "                                             article  \\\n",
       "0  Ever noticed how plane seats appear to be gett...   \n",
       "1  A drunk teenage boy had to be rescued by secur...   \n",
       "2  Dougie Freedman is on the verge of agreeing a ...   \n",
       "3  Liverpool target Neto is also wanted by PSG an...   \n",
       "4  Bruce Jenner will break his silence in a two-h...   \n",
       "\n",
       "                                          highlights  \n",
       "0  Experts question if  packed out planes are put...  \n",
       "1  Drunk teenage boy climbed into lion enclosure ...  \n",
       "2  Nottingham Forest are close to extending Dougi...  \n",
       "3  Fiorentina goalkeeper Neto has been linked wit...  \n",
       "4  Tell-all interview with the reality TV star, 6...  "
      ]
     },
     "execution_count": 10,
     "metadata": {},
     "output_type": "execute_result"
    }
   ],
   "source": [
    "import pandas as pd\n",
    "\n",
    "dataset = pd.read_csv(\"https://raw.githubusercontent.com/SAM-Aryan/Text-Summarization-Project/main/Dataset/data.csv\")\n",
    "dataset.head()"
   ]
  },
  {
   "cell_type": "code",
   "execution_count": 34,
   "metadata": {},
   "outputs": [],
   "source": [
    "highlight = []\n",
    "\n",
    "for i in range(10):\n",
    "    highlight.append(dataset['highlights'][i])"
   ]
  },
  {
   "cell_type": "code",
   "execution_count": 11,
   "metadata": {},
   "outputs": [
    {
     "data": {
      "text/plain": [
       "\"Ever noticed how plane seats appear to be getting smaller and smaller? With increasing numbers of people taking to the skies, some experts are questioning if having such packed out planes is putting passengers at risk. They say that the shrinking space on aeroplanes is not only uncomfortable - it's putting our health and safety in danger. More than squabbling over the arm rest, shrinking space on planes putting our health and safety in danger? This week, a U.S consumer advisory group set up by the Department of Transportation said at a public hearing that while the government is happy to set standards for animals flying on planes, it doesn't stipulate a minimum amount of space for humans. 'In a world where animals have more rights to space and food than humans,' said Charlie Leocha, consumer representative on the committee.\\xa0'It is time that the DOT and FAA take a stand for humane treatment of passengers.' But could crowding on planes lead to more serious issues than fighting for space in the overhead lockers, crashing elbows and seat back kicking? Tests conducted by the FAA use planes with a 31 inch pitch, a standard which on some airlines has decreased . Many economy seats on United Airlines have 30 inches of room, while some airlines offer as little as 28 inches . Cynthia Corbertt, a human factors researcher with the Federal Aviation Administration, that it conducts tests on how quickly passengers can leave a plane. But these tests are conducted using planes with 31 inches between each row of seats, a standard which on some airlines has decreased, reported the Detroit News. The distance between two seats from one point on a seat to the same point on the seat behind it is known as the pitch. While most airlines stick to a pitch of 31 inches or above, some fall below this. While United Airlines has 30 inches of space, Gulf Air economy seats have between 29 and 32 inches, Air Asia offers 29 inches and Spirit Airlines offers just 28 inches. British Airways has a seat pitch of 31 inches, while easyJet has 29 inches, Thomson's short haul seat pitch is 28 inches, and Virgin Atlantic's is 30-31.\""
      ]
     },
     "execution_count": 11,
     "metadata": {},
     "output_type": "execute_result"
    }
   ],
   "source": [
    "article = dataset[\"article\"]\n",
    "article[0]"
   ]
  },
  {
   "cell_type": "code",
   "execution_count": null,
   "metadata": {},
   "outputs": [],
   "source": [
    "!openllm start flan-t5 --model-id google/flan-t5-base"
   ]
  },
  {
   "cell_type": "code",
   "execution_count": 9,
   "metadata": {},
   "outputs": [],
   "source": [
    "import openllm\n",
    "\n",
    "client = openllm.client.HTTPClient(\"http://localhost:3000\")\n",
    "responses = []\n",
    "\n",
    "for i in range(10):\n",
    "    response = client.query(f\"summarize this {article[i]}\")\n",
    "    responses.append(response.responses[0])\n"
   ]
  },
  {
   "cell_type": "code",
   "execution_count": 55,
   "metadata": {},
   "outputs": [],
   "source": [
    "from rouge import Rouge\n",
    "\n",
    "rouge = Rouge()\n",
    "scores = rouge.get_scores(highlight, responses)\n",
    "\n",
    "f1_total_rouge_1 = 0\n",
    "\n",
    "for i in scores:\n",
    "    f1 = i['rouge-1']['f']\n",
    "    f1_total_rouge_1 = f1 + f1_total_rouge_1\n",
    "\n",
    "f1_score_avg_rouge_1 = (f1_total_rouge_1/(len(scores)))\n",
    "\n",
    "f1_total_rouge_2 = 0\n",
    "\n",
    "for i in scores:\n",
    "    f1 = i['rouge-2']['f']\n",
    "    f1_total_rouge_2 = f1 + f1_total_rouge_2\n",
    "\n",
    "f1_score_avg_rouge_2 = (f1_total_rouge_2/(len(scores)))\n",
    "\n",
    "f1_total_rouge_l = 0\n",
    "\n",
    "for i in scores:\n",
    "    f1 = i['rouge-l']['f']\n",
    "    f1_total_rouge_l = f1 + f1_total_rouge_l\n",
    "\n",
    "f1_score_avg_rouge_l_flan_t5 = (f1_total_rouge_l/(len(scores)))"
   ]
  },
  {
   "cell_type": "code",
   "execution_count": null,
   "metadata": {},
   "outputs": [],
   "source": [
    "!openllm start dolly-v2 --model-id dolly-v2-3b"
   ]
  },
  {
   "cell_type": "code",
   "execution_count": null,
   "metadata": {},
   "outputs": [],
   "source": [
    "import openllm\n",
    "\n",
    "client = openllm.client.HTTPClient(\"http://localhost:3000\")\n",
    "responses = []\n",
    "\n",
    "for i in range(10):\n",
    "    response = client.query(f\"summarize this {article[i]}\")\n",
    "    responses.append(response.responses[0])"
   ]
  },
  {
   "cell_type": "code",
   "execution_count": null,
   "metadata": {},
   "outputs": [],
   "source": [
    "scores = rouge.get_scores(highlight, responses)\n",
    "\n",
    "f1_total_rouge_1 = 0\n",
    "\n",
    "for i in scores:\n",
    "    f1 = i['rouge-1']['f']\n",
    "    f1_total_rouge_1 = f1 + f1_total_rouge_1\n",
    "\n",
    "f1_score_avg_rouge_1 = (f1_total_rouge_1/(len(scores)))\n",
    "\n",
    "f1_total_rouge_2 = 0\n",
    "\n",
    "for i in scores:\n",
    "    f1 = i['rouge-2']['f']\n",
    "    f1_total_rouge_2 = f1 + f1_total_rouge_2\n",
    "\n",
    "f1_score_avg_rouge_2 = (f1_total_rouge_2/(len(scores)))\n",
    "\n",
    "f1_total_rouge_l = 0\n",
    "\n",
    "for i in scores:\n",
    "    f1 = i['rouge-l']['f']\n",
    "    f1_total_rouge_l = f1 + f1_total_rouge_l\n",
    "\n",
    "f1_score_avg_rouge_l_gpt_neox = (f1_total_rouge_l/(len(scores)))"
   ]
  },
  {
   "cell_type": "code",
   "execution_count": null,
   "metadata": {},
   "outputs": [],
   "source": [
    "!openllm start llama --model-id NousResearch/llama-2-7b-chat-hf --port 8001 --backend vllm"
   ]
  },
  {
   "cell_type": "code",
   "execution_count": null,
   "metadata": {},
   "outputs": [],
   "source": [
    "import openllm\n",
    "\n",
    "client = openllm.client.HTTPClient(\"http://localhost:3000\")\n",
    "responses = []\n",
    "\n",
    "for i in range(10):\n",
    "    response = client.query(f\"summarize this {article[i]}\")\n",
    "    responses.append(response.responses[0])"
   ]
  },
  {
   "cell_type": "code",
   "execution_count": null,
   "metadata": {},
   "outputs": [],
   "source": [
    "scores = rouge.get_scores(highlight, responses)\n",
    "\n",
    "f1_total_rouge_1 = 0\n",
    "\n",
    "for i in scores:\n",
    "    f1 = i['rouge-1']['f']\n",
    "    f1_total_rouge_1 = f1 + f1_total_rouge_1\n",
    "\n",
    "f1_score_avg_rouge_1 = (f1_total_rouge_1/(len(scores)))\n",
    "\n",
    "f1_total_rouge_2 = 0\n",
    "\n",
    "for i in scores:\n",
    "    f1 = i['rouge-2']['f']\n",
    "    f1_total_rouge_2 = f1 + f1_total_rouge_2\n",
    "\n",
    "f1_score_avg_rouge_2 = (f1_total_rouge_2/(len(scores)))\n",
    "\n",
    "f1_total_rouge_l = 0\n",
    "\n",
    "for i in scores:\n",
    "    f1 = i['rouge-l']['f']\n",
    "    f1_total_rouge_l = f1 + f1_total_rouge_l\n",
    "\n",
    "f1_score_avg_rouge_l_stablelm = (f1_total_rouge_l/(len(scores)))"
   ]
  }
 ],
 "metadata": {
  "kernelspec": {
   "display_name": "Python 3",
   "language": "python",
   "name": "python3"
  },
  "language_info": {
   "codemirror_mode": {
    "name": "ipython",
    "version": 3
   },
   "file_extension": ".py",
   "mimetype": "text/x-python",
   "name": "python",
   "nbconvert_exporter": "python",
   "pygments_lexer": "ipython3",
   "version": "3.11.2"
  }
 },
 "nbformat": 4,
 "nbformat_minor": 2
}
